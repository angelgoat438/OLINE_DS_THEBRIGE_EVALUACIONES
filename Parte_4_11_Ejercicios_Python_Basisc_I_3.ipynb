{
  "cells": [
    {
      "cell_type": "markdown",
      "metadata": {
        "id": "rsYgMD9pEp6t"
      },
      "source": [
        "![TheBridge_logo_RGB_color.jpg](attachment:TheBridge_logo_RGB_color.jpg)"
      ]
    },
    {
      "cell_type": "markdown",
      "metadata": {
        "id": "mchTFEn4Ep6w"
      },
      "source": [
        "![imagen](./img/ejercicios.png)"
      ]
    },
    {
      "cell_type": "markdown",
      "metadata": {
        "id": "5HQrb8DsEp6w"
      },
      "source": [
        "## EJERCICIOS PYTHON BASICO 3:\n",
        "## Operaciones matemáticas, comparación y booleanas"
      ]
    },
    {
      "cell_type": "markdown",
      "metadata": {
        "id": "vSY7hk7sEp6x"
      },
      "source": [
        "Completa los siguiente ejercicios, la solución completa a los mismos se publicarán en el repo del curso a lo largo del sprint. En algunos ejercicios se muestra la solución final, para que puedas comprobar que lo has hecho bien, pero lo importante es el código que generes. ¡Vaaamos, a ello...!"
      ]
    },
    {
      "cell_type": "markdown",
      "metadata": {
        "id": "gfaNj2OKEp6x"
      },
      "source": [
        "![ejercicio.png](./img/ejercicio.png)\n",
        "\n",
        "\n",
        "## Ejercicio 1\n",
        "Tenemos las siguientes variables:\n",
        "\n",
        "```Python\n",
        "A = 4\n",
        "B = \"Text\"\n",
        "C = 4.1\n",
        "```\n",
        "\n",
        "Comprueba:\n",
        "1. Si A y B son equivalentes\n",
        "2. Si A y C NO son equivalentes\n",
        "3. Si A es mayor que C\n",
        "4. Si C es menor o igual que A\n",
        "5. Si B NO es equivalente a C"
      ]
    },
    {
      "cell_type": "code",
      "execution_count": 10,
      "metadata": {
        "id": "KKi15-CuEp6x",
        "outputId": "395cb91f-95d9-4e64-8b0a-d2e9ecb44aed",
        "colab": {
          "base_uri": "https://localhost:8080/"
        }
      },
      "outputs": [
        {
          "output_type": "stream",
          "name": "stdout",
          "text": [
            "False\n",
            "True\n",
            "False\n",
            "False\n",
            "True\n"
          ]
        }
      ],
      "source": [
        "A = 4\n",
        "B = \"Text\"\n",
        "C = 4.1\n",
        "\n",
        "print(A == B)\n",
        "print (A != C)\n",
        "print (A > C)\n",
        "print (C <= A)\n",
        "print (B != C)"
      ]
    },
    {
      "cell_type": "markdown",
      "metadata": {
        "id": "rCIjPqqoEp6y"
      },
      "source": [
        "![ejercicio.png](./img/ejercicio.png)\n",
        "\n",
        "## Ejercicio 2\n",
        "Crea un programa donde se recojan dos inputs del usuario, y el output del programa sea si esos inputs son iguales o no"
      ]
    },
    {
      "cell_type": "code",
      "execution_count": 11,
      "metadata": {
        "id": "_pm5KiFQEp6z",
        "outputId": "d8dce668-51c5-4e3e-98bb-c24cf60e29dc",
        "colab": {
          "base_uri": "https://localhost:8080/"
        }
      },
      "outputs": [
        {
          "output_type": "stream",
          "name": "stdout",
          "text": [
            "Dime un numero entero: 5\n",
            "Dime otro numero entero: 7\n",
            "Los numeros son diferentes\n"
          ]
        }
      ],
      "source": [
        "num1 = int(input(\"Dime un numero entero: \"))\n",
        "num2 = int(input(\"Dime otro numero entero: \"))\n",
        "\n",
        "if num1 == num2:\n",
        "  print(\"Los numeros son iguales\")\n",
        "else:\n",
        "  print(\"Los numeros son diferentes\")"
      ]
    },
    {
      "cell_type": "markdown",
      "metadata": {
        "id": "sC1PZHW-Ep6z"
      },
      "source": [
        "![ejercicio.png](./img/ejercicio.png)\n",
        "\n",
        "## Ejercicio 3\n",
        "Mismo programa que en 2, pero en esta ocasión tienen que ser tres inputs y dos salidas. Una de las salidas que nos indique si todos son iguales, y la otra si al menos dos inputs sí que lo son"
      ]
    },
    {
      "cell_type": "code",
      "execution_count": 14,
      "metadata": {
        "id": "_lNXbyDwEp6z",
        "outputId": "f773bcad-eba7-4ad7-ee8a-dc48855ef92c",
        "colab": {
          "base_uri": "https://localhost:8080/"
        }
      },
      "outputs": [
        {
          "output_type": "stream",
          "name": "stdout",
          "text": [
            "Dime un numero entero: 1\n",
            "Dime otro numero entero: 1\n",
            "Dime otro numero entero: 1\n",
            "Todos numeros igaules? : True\n",
            "Al menos dos? : True\n"
          ]
        }
      ],
      "source": [
        "n1 = int(input(\"Dime un numero entero: \"))\n",
        "n2 = int(input(\"Dime otro numero entero: \"))\n",
        "n3 = int(input(\"Dime otro numero entero: \"))\n",
        "\n",
        "todos_num_igaules= n1 == n2 == n3\n",
        "al_menos_dos = n1 == n2 or n1 == n3 or n2 == n3\n",
        "\n",
        "print(f\"Todos numeros igaules? : {todos_num_igaules}\")\n",
        "print(f\"Al menos dos? : {al_menos_dos}\")\n",
        "\n"
      ]
    },
    {
      "cell_type": "markdown",
      "metadata": {
        "id": "1XjtM13gEp6z"
      },
      "source": [
        "![ejercicio.png](./img/ejercicio.png)\n",
        "\n",
        "## Ejercicio 4\n",
        "Razona sin ejecutar código el output que obtendremos de las siguientes sentencias\n",
        "1. True and True and False = False\n",
        "2. not ((True or False) and (True or False)) = False\n",
        "3. (False or False or False or True) and False = False\n",
        "4. not False and True and not True = False\n"
      ]
    },
    {
      "cell_type": "markdown",
      "metadata": {
        "id": "BpzZqZYBEp60"
      },
      "source": []
    }
  ],
  "metadata": {
    "kernelspec": {
      "display_name": "Curso_Online_DATA",
      "language": "python",
      "name": "python3"
    },
    "language_info": {
      "codemirror_mode": {
        "name": "ipython",
        "version": 3
      },
      "file_extension": ".py",
      "mimetype": "text/x-python",
      "name": "python",
      "nbconvert_exporter": "python",
      "pygments_lexer": "ipython3",
      "version": "3.11.5"
    },
    "orig_nbformat": 4,
    "colab": {
      "provenance": []
    }
  },
  "nbformat": 4,
  "nbformat_minor": 0
}