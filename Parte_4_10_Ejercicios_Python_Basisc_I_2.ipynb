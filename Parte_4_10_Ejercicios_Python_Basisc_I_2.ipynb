{
  "cells": [
    {
      "cell_type": "markdown",
      "metadata": {
        "id": "view-in-github",
        "colab_type": "text"
      },
      "source": [
        "<a href=\"https://colab.research.google.com/github/angelgoat438/OLINE_DS_THEBRIGE_EVALUACIONES/blob/main/Parte_4_10_Ejercicios_Python_Basisc_I_2.ipynb\" target=\"_parent\"><img src=\"https://colab.research.google.com/assets/colab-badge.svg\" alt=\"Open In Colab\"/></a>"
      ]
    },
    {
      "cell_type": "markdown",
      "metadata": {
        "id": "GB2K42EgK9q5"
      },
      "source": [
        "![TheBridge_logo_RGB_color.jpg](attachment:TheBridge_logo_RGB_color.jpg)"
      ]
    },
    {
      "cell_type": "markdown",
      "metadata": {
        "id": "GnwVlO37K9q6"
      },
      "source": [
        "![imagen](./img/ejercicios.png)"
      ]
    },
    {
      "cell_type": "markdown",
      "metadata": {
        "id": "_9pTa0PXK9q6"
      },
      "source": [
        "## EJERCICIOS PYTHON BASICO 2:\n",
        "## Tipos y conversión de tipos"
      ]
    },
    {
      "cell_type": "markdown",
      "metadata": {
        "id": "tYmV-veoK9q6"
      },
      "source": [
        "Completa los siguiente ejercicios, la solución a los mismos se publicarán en el repo del curso a lo largo del sprint"
      ]
    },
    {
      "cell_type": "markdown",
      "metadata": {
        "id": "YAdFbIOXK9q7"
      },
      "source": [
        "![ejercicio.png](./img/ejercicio.png)\n",
        "\n",
        "## Ejercicio 1\n",
        "\n",
        "1. Crea dos variables numericas: un `int` y un `float`\n",
        "2. Comprueba sus tipos\n",
        "3. Sumalas en otra nueva\n",
        "4. ¿De qué tipo es la nueva variable?\n",
        "5. Elimina las dos primeras variables creadas"
      ]
    },
    {
      "cell_type": "code",
      "execution_count": 2,
      "metadata": {
        "id": "8QZmuLOsK9q7",
        "colab": {
          "base_uri": "https://localhost:8080/"
        },
        "outputId": "30fad35b-52c0-45b1-eadd-041b3ff11332"
      },
      "outputs": [
        {
          "output_type": "stream",
          "name": "stdout",
          "text": [
            "<class 'int'>\n",
            "<class 'float'>\n",
            "41.9\n",
            "<class 'float'>\n"
          ]
        }
      ],
      "source": [
        "edad = 40\n",
        "altura = 1.90\n",
        "print(type(edad))\n",
        "print(type(altura))\n",
        "conjunto= edad + altura\n",
        "print(conjunto)\n",
        "print(type(conjunto))\n",
        "del edad\n",
        "del altura\n"
      ]
    },
    {
      "cell_type": "markdown",
      "metadata": {
        "id": "f5xfpkpQK9q7"
      },
      "source": [
        "![ejercicio.png](./img/ejercicio.png)\n",
        "\n",
        "## Ejercicio 2\n",
        "Escribe un programa para pasar de grados a radianes. Hay que usar `input`. Recuerda que la conversión se realiza mediante\n",
        "\n",
        "radianes = grados*(pi/180)"
      ]
    },
    {
      "cell_type": "code",
      "execution_count": 6,
      "metadata": {
        "id": "V50TUQMzK9q7",
        "colab": {
          "base_uri": "https://localhost:8080/"
        },
        "outputId": "d75166d5-f2d1-469a-8055-23d38c699be5"
      },
      "outputs": [
        {
          "output_type": "stream",
          "name": "stdout",
          "text": [
            "Dime los grdos que quieres convertir: 25\n",
            "La conversión de 25 gros en radianes es: 0.4363194444444445 radianes\n"
          ]
        }
      ],
      "source": [
        "grados = int(input(\"Dime los grdos que quieres convertir: \"))\n",
        "radianes = grados*(3.1415/180)\n",
        "print(f\"La conversión de {grados} gros en radianes es: {radianes} radianes\")\n"
      ]
    },
    {
      "cell_type": "markdown",
      "metadata": {
        "id": "zX3-p58CK9q7"
      },
      "source": [
        "![ejercicio.png](./img/ejercicio.png)\n",
        "\n",
        "## Ejercicio 3\n",
        "Escribe un programa que calcule el area de un paralelogramo (base x altura). También con `input`"
      ]
    },
    {
      "cell_type": "code",
      "execution_count": 10,
      "metadata": {
        "id": "s2QfNiBAK9q7",
        "colab": {
          "base_uri": "https://localhost:8080/"
        },
        "outputId": "fd5dc49b-ec91-4a08-b476-1b970184064e"
      },
      "outputs": [
        {
          "output_type": "stream",
          "name": "stdout",
          "text": [
            "Dime la longitud de la base (cm): 20\n",
            "Dime la altura (cm): 50\n",
            "El area del paralelogramo es : 1000.0 cm\n"
          ]
        }
      ],
      "source": [
        "base = float(input(\"Dime la longitud de la base (cm): \"))\n",
        "altura_2 = float(input(\"Dime la altura (cm): \"))\n",
        "area = base * altura_2\n",
        "print(f\"El area del paralelogramo es : {area} cm\")"
      ]
    },
    {
      "cell_type": "markdown",
      "metadata": {
        "id": "-6TBo_HvK9q8"
      },
      "source": [
        "![ejercicio.png](./img/ejercicio.png)\n",
        "\n",
        "## Ejercicio 4\n",
        "Escribe un programa que calcule el area de un paralelogramo (base x altura). También con `input`. En este caso debe ser capaz de admitir valores reales, con decimales, para base y altura en español. (PISTA: Recuerda que tendrás que hacer uso del método replace)"
      ]
    },
    {
      "cell_type": "code",
      "execution_count": 18,
      "metadata": {
        "id": "uzUIa1JqK9q8",
        "colab": {
          "base_uri": "https://localhost:8080/"
        },
        "outputId": "e2303474-560b-404f-9b8e-708d588d8968"
      },
      "outputs": [
        {
          "output_type": "stream",
          "name": "stdout",
          "text": [
            "Dime la longitud de la base (cm): 41.15\n",
            "Dime la altura (cm): 20.40\n",
            "El area del paralelogramo es: 839,46 cm\n"
          ]
        }
      ],
      "source": [
        "base_o = float(input(\"Dime la longitud de la base (cm): \"))\n",
        "altura_o = float(input(\"Dime la altura (cm): \"))\n",
        "area_f = round(base_o * altura_o,2)\n",
        "base_e = str(base_o).replace(\".\" , \",\")\n",
        "altura_e = str(altura_o).replace(\".\" , \",\")\n",
        "area_f2 = str(area_f).replace(\".\" , \",\")\n",
        "print(f\"El area del paralelogramo es: {area_f2} cm\")"
      ]
    },
    {
      "cell_type": "markdown",
      "metadata": {
        "id": "5zKugi5iK9q8"
      },
      "source": [
        "![ejercicio.png](./img/ejercicio.png)\n",
        "\n",
        "## Ejercicio 5\n",
        "Complete el siguiente código para solicitar al usuario su nombre y su edad. Luego, calcule en qué año nació el usuario y muestre el resultado."
      ]
    },
    {
      "cell_type": "code",
      "execution_count": 23,
      "metadata": {
        "id": "LISfTnRkK9q8",
        "colab": {
          "base_uri": "https://localhost:8080/"
        },
        "outputId": "322e0586-58b1-4ebc-b26c-b7f172ad32cc"
      },
      "outputs": [
        {
          "output_type": "stream",
          "name": "stdout",
          "text": [
            "¿Cuál es tu nombre? Pedro\n",
            "¿Cuál es tu edad? 30\n",
            "Pedro, naciste en el año 1995.\n"
          ]
        }
      ],
      "source": [
        "nombre = input((\"¿Cuál es tu nombre? \"))\n",
        "edad = int(input(\"¿Cuál es tu edad? \"))\n",
        "año_actual = 2025  # Puedes cambiarlo según el año en curso\n",
        "año_nacimiento = año_actual - edad\n",
        "\n",
        "print(f\"{nombre}, naciste en el año {año_nacimiento}.\")\n"
      ]
    }
  ],
  "metadata": {
    "kernelspec": {
      "display_name": "Curso_Online_DATA",
      "language": "python",
      "name": "python3"
    },
    "language_info": {
      "codemirror_mode": {
        "name": "ipython",
        "version": 3
      },
      "file_extension": ".py",
      "mimetype": "text/x-python",
      "name": "python",
      "nbconvert_exporter": "python",
      "pygments_lexer": "ipython3",
      "version": "3.11.5"
    },
    "orig_nbformat": 4,
    "colab": {
      "provenance": [],
      "include_colab_link": true
    }
  },
  "nbformat": 4,
  "nbformat_minor": 0
}