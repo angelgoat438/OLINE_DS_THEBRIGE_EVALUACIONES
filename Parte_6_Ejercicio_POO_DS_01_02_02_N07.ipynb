{
  "cells": [
    {
      "cell_type": "markdown",
      "metadata": {
        "id": "vigJnuAMSU4x"
      },
      "source": [
        "![TheBridge_logo_RGB_color.jpg](attachment:TheBridge_logo_RGB_color.jpg)"
      ]
    },
    {
      "cell_type": "markdown",
      "metadata": {
        "id": "2xmnwM17SU4y"
      },
      "source": [
        "![ejercicios.png](attachment:ejercicios.png)"
      ]
    },
    {
      "cell_type": "markdown",
      "metadata": {
        "id": "liorA-1ZSU4y"
      },
      "source": [
        "# Ejercicios Clases y Objetos"
      ]
    },
    {
      "cell_type": "markdown",
      "metadata": {
        "id": "5xXUz5l9SU4z"
      },
      "source": [
        "## Ejercicio 1\n",
        "Somos una empresa que tiene varias tiendas de electrodomesticos. Necesitamos un programa para manejar las tiendas, ver las ventas que han tenido, cuántos empleados hay, etc... Para ello vamos a modelizar la tienda en una clase, que tendrá las siguientes características:\n",
        "* Nombre clase: \"Tienda\"\n",
        "* Atributos comunes:\n",
        "    * Tipo: \"Electrodomésticos\"\n",
        "    * Abierta: True\n",
        "* Atributos propios de cada tienda:\n",
        "    * Nombre - String\n",
        "    * Dirección - String\n",
        "    * Número de empleados - int\n",
        "    * Ventas ultimos 3 meses - Lista de 3 numeros\n",
        "* Método para calcular las ventas de todos los meses, que devuelva un numero con todas las ventas.\n",
        "* Método que calcula la media de ventas de los ultimos meses, por empleado\n",
        "* Método que devuelve en un string el nombre de la tienda, junto con su dirección.\n",
        "* Método que obtiene las ventas del último mes.\n",
        "* Método para dar una proyección de las ventas en caso de haber invertido X dinero en marketing en esa tienda. Siendo X el parámetro de entrada. Si X es menor de 1000, las ventas de los ultimos 3 meses hubiesen sido de (1.2 x ventas), si es mayor o igual de 1000, las ventas hubiesen sido de (1.5 x venta). El método reescribe el atributo de ventas en los últimos 3 meses, y además devuelve las ventas con el aumento.\n",
        "\n",
        "Se pide:\n",
        "1. Implementar la clase \"Tienda\"\n",
        "2. Crear tres tiendas con datos inventados\n",
        "3. Comprueba en al menos una de ellas, todo lo implementado en la clase tienda (sus atributos, media de ventas, ventas/empleado...)\n",
        "3. Calcular las ventas del último mes de todas las tiendas. Para ello usa el bucle `for`\n",
        "4. Imprime por pantalla los nombres de las tiendas cuya dirección lleve el string \"Avenida\"\n",
        "5. Seguro que ya has hecho este apartado... Documenta la clase :)"
      ]
    },
    {
      "cell_type": "code",
      "execution_count": 3,
      "metadata": {
        "colab": {
          "base_uri": "https://localhost:8080/"
        },
        "id": "5cLQcLxfSU4z",
        "outputId": "b399a1a2-20b0-4fff-889f-0d0dfdc13333"
      },
      "outputs": [
        {
          "name": "stdout",
          "output_type": "stream",
          "text": [
            "145000\n",
            "20714.29\n",
            "El nombre de la tienda es: Boston ML y su dirección es: Avd/Whasington 73\n",
            "70000\n",
            "[64500.0, 48000.0, 105000.0]\n"
          ]
        }
      ],
      "source": [
        "class Tienda:\n",
        "  tipo = \"Electrodomésticos\"\n",
        "  abierta = True\n",
        "\n",
        "  def __init__(self,nombre,direccion,numero_empleados,ventas):\n",
        "    self.nombre = nombre\n",
        "    self.direccion = direccion\n",
        "    self.numero_empleados = numero_empleados\n",
        "    self.ventas = ventas\n",
        "\n",
        "  def ventas_totales(self):\n",
        "    return sum(self.ventas)\n",
        "\n",
        "  def ventas_por_empleado(self):\n",
        "    return round(sum(self.ventas)/self.numero_empleados,2)\n",
        "\n",
        "  def detalles_tienda(self):\n",
        "      return f\"El nombre de la tienda es: {self.nombre} y su dirección es: {self.direccion}\"\n",
        "\n",
        "  def ventas_ultimo_mes(self):\n",
        "    return self.ventas[-1]\n",
        "\n",
        "  def tasa_retorno(self,d_marketing = 0):\n",
        "    if d_marketing < 1000:\n",
        "      self.ventas = [1.2 * v for v in self.ventas]\n",
        "      return self.ventas\n",
        "    else:\n",
        "      self.ventas = [1.5 * v for v in self.ventas]\n",
        "      return self.ventas\n",
        "\n",
        "tienda1 = Tienda(\"Coffee shop SL\",\"C/Las venturas 4\",5,[25000,18000,48000])\n",
        "tienda2 = Tienda(\"NY coffé\",\"C/Toronto 15\",8,[54000,39000,67000])\n",
        "tienda3 = Tienda(\"Boston ML\",\"Avd/Whasington 73\",7,[43000,32000,70000])\n",
        "\n",
        "print(tienda3.ventas_totales())\n",
        "print(tienda3.ventas_por_empleado())\n",
        "print(tienda3.detalles_tienda())\n",
        "print(tienda3.ventas_ultimo_mes())\n",
        "print(tienda3.tasa_retorno(15000))"
      ]
    },
    {
      "cell_type": "markdown",
      "metadata": {
        "id": "WEBq7EpsSU40"
      },
      "source": [
        "## Ejercicio 2\n",
        "En este ejercicio vamos a implementar una clase *Perro* en Python. La clase tiene las siguientes características:\n",
        "* Cosas que sabemos seguro que tiene un perro\n",
        "    * Tiene 4 patas\n",
        "    * 2 orejas\n",
        "    * 2 ojos\n",
        "    * Una velocidad de 0. Por defecto, el perro está parado\n",
        "* Cuando se inicialice:\n",
        "    * El perro será de una determinada raza\n",
        "    * Por defecto tendrá pelo \"Marrón\", a no ser que se diga lo contrario.\n",
        "    * Por defecto no tendrá dueño, a no ser que se diga lo contrario.\n",
        "    \n",
        "* Dispondrá también de un método llamado andar, que tiene un argumento de entrada (aumento_velocidad). Este valor se le sumará a la velocidad que ya llevaba el perro.\n",
        "* Necesita otro método (parar), donde pondremos la velocidad a 0.\n",
        "* Otro método llamado \"ladrar\", que tendrá un argumento de entrada, y la salida será el siguiente string: \"GUAU!\" + el argumento de entrada.\n",
        "\n",
        "\n",
        "Se pide:\n",
        "* Implementa la clase *Perro*\n",
        "* Crea un objeto de tipo *Perro*, sin dueño\n",
        "* Comprueba que están bien todos sus atributos\n",
        "* Prueba que ande, y comprueba su velocidad\n",
        "* Páralo\n",
        "* Documenta la clase *Perro*"
      ]
    },
    {
      "cell_type": "code",
      "execution_count": 28,
      "metadata": {
        "id": "DpEWvbwGSU40"
      },
      "outputs": [
        {
          "name": "stdout",
          "output_type": "stream",
          "text": [
            "20\n",
            "0\n",
            "0\n",
            " GUAU! Toby\n"
          ]
        }
      ],
      "source": [
        "class Perro:\n",
        "    patas = 4\n",
        "    orejas = 2\n",
        "    ojos = 2\n",
        "    velocidad = 0\n",
        "\n",
        "    def __init__ (self,raza = \"pastor_aleman\",pelaje = \"marron\",dueño = False):\n",
        "     self.raza = raza\n",
        "     self.pelaje = pelaje\n",
        "     self.dueño = dueño\n",
        "     self.velocidad = 0 \n",
        "     \n",
        "     \n",
        "    def andar(self,aumento_velocidad):\n",
        "         self.velocidad += aumento_velocidad\n",
        "         return self.velocidad\n",
        "\n",
        "    def parar(self):\n",
        "        self.velocidad = 0\n",
        "        return self.velocidad \n",
        "    \n",
        "    def ladrar(self,mensaje):\n",
        "        return f\" GUAU! \" + mensaje\n",
        "\n",
        "perro1 = Perro(\"labrador\",\"marron\")\n",
        "\n",
        "print(perro1.andar(20))\n",
        "print(perro1.parar())\n",
        "print(perro1.velocidad)\n",
        "print(perro1.ladrar(\"Toby\"))\n",
        "\n"
      ]
    }
  ],
  "metadata": {
    "colab": {
      "provenance": []
    },
    "kernelspec": {
      "display_name": "Python 3",
      "language": "python",
      "name": "python3"
    },
    "language_info": {
      "codemirror_mode": {
        "name": "ipython",
        "version": 3
      },
      "file_extension": ".py",
      "mimetype": "text/x-python",
      "name": "python",
      "nbconvert_exporter": "python",
      "pygments_lexer": "ipython3",
      "version": "3.12.6"
    }
  },
  "nbformat": 4,
  "nbformat_minor": 0
}
