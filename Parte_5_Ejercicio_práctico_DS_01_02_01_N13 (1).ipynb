{
  "cells": [
    {
      "cell_type": "markdown",
      "metadata": {
        "id": "9l3HMgm6RWxF"
      },
      "source": [
        "![TheBridge_logo_RGB_color.jpg](attachment:TheBridge_logo_RGB_color.jpg)"
      ]
    },
    {
      "cell_type": "markdown",
      "metadata": {
        "id": "RGg9iWpoRWxG"
      },
      "source": [
        "![ejercicios.png](attachment:ejercicios.png)"
      ]
    },
    {
      "cell_type": "markdown",
      "metadata": {
        "id": "AyOlWS2nRWxH"
      },
      "source": [
        "## PRACTICA OBLIGATORIA: COLECCIONES Y FUNCIONES"
      ]
    },
    {
      "cell_type": "markdown",
      "metadata": {
        "id": "6UOgb0KVRWxH"
      },
      "source": [
        "* La práctica obligatoria de esta unidad consiste varios ejercicios de programación libre a completar sobre Colecciones y Funciones. Descarga este notebook en tu ordenador y trabaja en local.  \n",
        "* Recuerda que debes subirla a tu repositorio personal antes de la sesión en vivo para que puntúe adecuadamente y puedas participar en dicha sesión.  \n",
        "* Recuerda también que no es necesario que esté perfecta, sólo es necesario que se vea el esfuerzo.\n",
        "* Esta práctica se resolverá en la sesión en vivo correspondiente y la solución se publicará en el repo del curso."
      ]
    },
    {
      "cell_type": "markdown",
      "metadata": {
        "id": "j3yu-tEjRWxH"
      },
      "source": [
        "### Contenidos"
      ]
    },
    {
      "cell_type": "markdown",
      "metadata": {
        "id": "kO-fLH39RWxH"
      },
      "source": [
        "## Ejercicio 1\n",
        "Eleva todos los elementos de la lista al cuadrado\n",
        "> ```ejer_2 = [1,2,3,4,5]```"
      ]
    },
    {
      "cell_type": "code",
      "execution_count": 2,
      "metadata": {
        "colab": {
          "base_uri": "https://localhost:8080/"
        },
        "id": "ks5l3yi7RWxH",
        "outputId": "239bbbd7-3ec6-47c0-b1ba-10890d746699"
      },
      "outputs": [
        {
          "name": "stdout",
          "output_type": "stream",
          "text": [
            "1\n",
            "4\n",
            "9\n",
            "16\n",
            "25\n"
          ]
        }
      ],
      "source": [
        "ejer_2 = [1,2,3,4,5]\n",
        "\n",
        "for num in ejer_2:\n",
        "  cuadrado = num**2\n",
        "  print (cuadrado)"
      ]
    },
    {
      "cell_type": "markdown",
      "metadata": {
        "id": "kI_Xr5oFRWxI"
      },
      "source": [
        "## Ejercicio 2\n",
        "Haz un programa que detecte todos los duplicados de un elemento en una lista:\n",
        "* Utiliza una variable duplicado para asignarle el valor del elemento del que queremos encontrar todos sus duplicados.\n",
        "* El programa debe devolver todos los índices de los elementos duplicados.\n",
        "* Aplícalo para encontrar los duplicados de \"un\", \"es\" y \"binario\" de:  \n",
        "\n",
        ">```ejer_3 = [\"Un\", \"árbol\", \"binario\", \"es\", \"una\", \"estructura\", \"de\", \"un\", \"tipo\", \"particular\", \"a\", \"veces\", \"no\", \"es\", \"ni\", \"binario\"]```\n"
      ]
    },
    {
      "cell_type": "code",
      "execution_count": null,
      "metadata": {
        "colab": {
          "base_uri": "https://localhost:8080/"
        },
        "id": "cLY9WB7YRWxI",
        "outputId": "4b1194ff-c6c6-4e9d-81de-bca981871395"
      },
      "outputs": [
        {
          "name": "stdout",
          "output_type": "stream",
          "text": [
            "De 'un' hay [0, 7] indices que se duplican\n",
            "De 'es' hay [3, 13] indices que se duplican\n",
            "De 'binario' hay [2, 15] indices que se duplican\n"
          ]
        }
      ],
      "source": [
        "\n",
        "\n",
        "\n",
        "objetivo = [\"un\",\"es\",\"binario\"]\n",
        "\n",
        "ejer_3_lower = [palabra.lower() for palabra in ejer_3]\n",
        "\n",
        "resultados = {}\n",
        "\n",
        "for buscado in objetivo:\n",
        "    indices = []\n",
        "\n",
        "    for indice,palabra in enumerate(ejer_3_lower):\n",
        "      if buscado == palabra:\n",
        "        indices.append(indice)\n",
        "    resultados[buscado] = indices\n",
        "\n",
        "for elemento,indices_encontra in resultados.items():\n",
        "  print(f\"De '{elemento}' hay {indices_encontra} indices que se duplican\")\n",
        "\n"
      ]
    },
    {
      "cell_type": "markdown",
      "metadata": {
        "id": "3WrBd5QaRWxI"
      },
      "source": [
        "## Ejercicio 3\n",
        "1. ¿Cuántas veces se repite el 3 en la siguiente tupla?\n",
        "2. Crea una tupla nueva con los elementos desde la posicion 5 a la 10.\n",
        "3. ¿Cuántos elementos tiene la tupla `ejer_3`?\n",
        "> ```ejer_9 = (3, 20, 3, 47, 19, 3, 29, 45, 67, 78, 90, 3, 3, 5, 2, 4, 7, 9, 4, 2, 4, 3, 3, 4, 6, 7)```"
      ]
    },
    {
      "cell_type": "code",
      "execution_count": 19,
      "metadata": {
        "colab": {
          "base_uri": "https://localhost:8080/"
        },
        "id": "bkv_R5LYRWxI",
        "outputId": "06d17733-3b97-48ba-d033-6f8383670ee0"
      },
      "outputs": [
        {
          "name": "stdout",
          "output_type": "stream",
          "text": [
            "El numero '3' aparece 7 veces\n",
            "La nueva tupla del 5 al 10 es: (3, 29, 45, 67, 78, 90)\n",
            "La tupla del ejer_3 tiene 16 elementos\n"
          ]
        }
      ],
      "source": [
        "ejer_9 = (3, 20, 3, 47, 19, 3, 29, 45, 67, 78, 90, 3, 3, 5, 2, 4, 7, 9, 4, 2, 4, 3, 3, 4, 6, 7)\n",
        "\n",
        "# ejercicio 1\n",
        "conteo = ejer_9.count(3)\n",
        "print(f\"El numero '3' aparece {conteo} veces\")\n",
        "\n",
        "# ejercicio 2\n",
        "nueva_tupla = ejer_9[5:11]\n",
        "print(f\"La nueva tupla del 5 al 10 es: {nueva_tupla}\")\n",
        "\n",
        "# ejercicio 3\n",
        "conteo_ejer_3 = len(ejer_3)\n",
        "print(f\"La tupla del ejer_3 tiene {conteo_ejer_3} elementos\")"
      ]
    },
    {
      "cell_type": "markdown",
      "metadata": {
        "id": "6g8Y54AeRWxI"
      },
      "source": [
        "## Ejercicio 4\n",
        "Comprueba si el numero 60 esta en la tupla del ejercicio 3"
      ]
    },
    {
      "cell_type": "code",
      "execution_count": 21,
      "metadata": {
        "colab": {
          "base_uri": "https://localhost:8080/"
        },
        "id": "F8VTEZonRWxI",
        "outputId": "830bfd49-ca39-4757-a4f4-6dede1e444d2"
      },
      "outputs": [
        {
          "name": "stdout",
          "output_type": "stream",
          "text": [
            "No encontré el numero\n"
          ]
        }
      ],
      "source": [
        "numero_buscado = 60\n",
        "\n",
        "if numero_buscado in ejer_9:\n",
        "    print(\"Si que está el 60\")\n",
        "else:\n",
        "  print(\"No encontré el numero\")\n"
      ]
    },
    {
      "cell_type": "markdown",
      "metadata": {
        "id": "y0fg-ZA6RWxI"
      },
      "source": [
        "## Ejercicio 5\n",
        "1. Convierte la tupla del ejercicio 3 en una lista\n",
        "2. Convierte la tupla del ejercicio 3 en un set\n",
        "3. Convierte la tupla del ejercicio 3 en un diccionario. Usa también los indices"
      ]
    },
    {
      "cell_type": "code",
      "execution_count": 25,
      "metadata": {
        "colab": {
          "base_uri": "https://localhost:8080/"
        },
        "id": "_O5hXr01RWxI",
        "outputId": "a5dd4a4e-6ecd-4cbb-c3af-88d036084099"
      },
      "outputs": [
        {
          "name": "stdout",
          "output_type": "stream",
          "text": [
            "<class 'tuple'>\n",
            "<class 'set'>\n",
            "{0: 3, 1: 20, 2: 3, 3: 47, 4: 19, 5: 3, 6: 29, 7: 45, 8: 67, 9: 78, 10: 90, 11: 3, 12: 3, 13: 5, 14: 2, 15: 4, 16: 7, 17: 9, 18: 4, 19: 2, 20: 4, 21: 3, 22: 3, 23: 4, 24: 6, 25: 7}\n"
          ]
        }
      ],
      "source": [
        "# ejercicio 1\n",
        "a_tupla = tuple(ejer_9)\n",
        "print(type(a_tupla))\n",
        "\n",
        "# ejercicio 2\n",
        "a_set = set(ejer_9)\n",
        "print(type(a_set))\n",
        "\n",
        "#ejercicio 3\n",
        "a_diccionario = {}\n",
        "\n",
        "for indice,valor in enumerate(ejer_9):\n",
        "    a_diccionario[indice] = valor\n",
        "print(a_diccionario)"
      ]
    },
    {
      "cell_type": "markdown",
      "metadata": {
        "id": "eOdWWbxvRWxJ"
      },
      "source": [
        "## Ejercicio 6\n",
        "Multiplica todos los valores del diccionario\n",
        "> ```ejer_6 = {1: 11, 2: 22, 3: 33, 4: 44, 5: 55}```"
      ]
    },
    {
      "cell_type": "code",
      "execution_count": 28,
      "metadata": {
        "colab": {
          "base_uri": "https://localhost:8080/"
        },
        "id": "KcuByovKRWxJ",
        "outputId": "1b27e312-8216-4b41-ec1b-eed9d897d3d7"
      },
      "outputs": [
        {
          "name": "stdout",
          "output_type": "stream",
          "text": [
            "El resultado final es: 19326120\n"
          ]
        }
      ],
      "source": [
        "ejer_6 = {1: 11, 2: 22, 3: 33, 4: 44, 5: 55}\n",
        "multiplicar = 1\n",
        "\n",
        "for num in ejer_6.values():\n",
        "  multiplicar *= num\n",
        "\n",
        "print(f\"El resultado final es: {multiplicar}\")\n"
      ]
    },
    {
      "cell_type": "markdown",
      "metadata": {
        "id": "W7TUSaKRRWxJ"
      },
      "source": [
        "## Ejercicio 7\n",
        "\n",
        "1. Crea un diccionario que describa un libro, con los siguientes campos o claves: \"titulo\",\"autor\",\"idioma original\",\"año de publicación\".\n",
        "2. Crea un a lista, llamada librería.\n",
        "3. Añade cuatro libros a tu elección a la librería."
      ]
    },
    {
      "cell_type": "code",
      "execution_count": 2,
      "metadata": {
        "colab": {
          "base_uri": "https://localhost:8080/"
        },
        "id": "d-IMRvxRRWxJ",
        "outputId": "b71a04da-1c8a-4005-ef65-1236fb09c5f0"
      },
      "outputs": [
        {
          "name": "stdout",
          "output_type": "stream",
          "text": [
            "['Fundamentos', 'Crisis 2008', 'Lenguaje no verbal', 'El viaje de Momo']\n"
          ]
        }
      ],
      "source": [
        "biblioteca = {\"Titulo\":\"El arte de la guerra\",\"Autor\":\"Sun Tzu\",\"idioma original\":\"Japonés\",\"Año publicación\":1450}\n",
        "libreria = []\n",
        "mis_libros = [\"Fundamentos\",\"Crisis 2008\",\"Lenguaje no verbal\",\"El viaje de Momo\"]\n",
        "libreria.extend(mis_libros)\n",
        "print(libreria)"
      ]
    },
    {
      "cell_type": "markdown",
      "metadata": {
        "id": "glMoedjYRWxJ"
      },
      "source": [
        "## Ejercicio 8\n",
        "Modifica los valores del idioma de todos los libros del ejercicio anterior para que sea \"esperanto\"\n"
      ]
    },
    {
      "cell_type": "code",
      "execution_count": 2,
      "metadata": {
        "colab": {
          "base_uri": "https://localhost:8080/"
        },
        "id": "veNdC-uwRWxJ",
        "outputId": "bbe885e0-71d0-4bb3-cdb0-5275a85d7afc"
      },
      "outputs": [
        {
          "name": "stdout",
          "output_type": "stream",
          "text": [
            "{'Titulo': 'El arte de la guerra', 'Autor': 'Sun Tzu', 'idioma original': 'esperanto', 'Año publicación': 1450}\n"
          ]
        }
      ],
      "source": [
        "biblioteca[\"idioma original\"]=\"esperanto\"\n",
        "print(biblioteca)"
      ]
    },
    {
      "cell_type": "markdown",
      "metadata": {
        "id": "DRCJG04KRWxJ"
      },
      "source": [
        "## Ejercicio 9\n",
        "1. Escribe un programa que dada una variable titulo busque los libros que hay en la librería con ese título. Si no se encuentra debe devolver el mensaje `Ese no lo tengo, ¿mola?`\n",
        "2. Pruena que el programa con uno de tus libros y con otro que no contenga tu librería."
      ]
    },
    {
      "cell_type": "code",
      "execution_count": 5,
      "metadata": {
        "id": "eWHdJi9BRWxJ"
      },
      "outputs": [
        {
          "name": "stdout",
          "output_type": "stream",
          "text": [
            "Si tengo ese libro !!!\n"
          ]
        }
      ],
      "source": [
        "\n",
        "titulo = input(\"Dime un libro para ver si lo tengo: \")\n",
        "\n",
        "if titulo in libreria:\n",
        "    print(\"Si tengo ese libro !!!\")\n",
        "else:\n",
        "    print(\"Ese no lo tengo, ¿mola?\")\n"
      ]
    },
    {
      "cell_type": "markdown",
      "metadata": {
        "id": "17YOpYuFRWxJ"
      },
      "source": [
        "## Ejercicio 10\n",
        "Convierte el programa del ejercicio 2 en una función al que se le pase el valor a buscar como un argumento posicional"
      ]
    },
    {
      "cell_type": "code",
      "execution_count": null,
      "metadata": {
        "id": "xbj0LgvnRWxJ"
      },
      "outputs": [],
      "source": [
        "ejer_3 = [\"Un\", \"árbol\", \"binario\", \"es\", \"una\", \"estructura\", \"de\", \"un\", \"tipo\", \"particular\", \"a\", \"veces\", \"no\", \"es\", \"ni\", \"binario\"]\n",
        "\n",
        "def buscador_posicion(pregunta):\n",
        "    indices = []\n",
        "    for indice,palabra in enumerate(ejer_3):\n",
        "        if pregunta == palabra:\n",
        "           indices.append(indice) \n",
        "    return indices\n"
      ]
    },
    {
      "cell_type": "code",
      "execution_count": 20,
      "metadata": {},
      "outputs": [
        {
          "name": "stdout",
          "output_type": "stream",
          "text": [
            "[2, 15]\n"
          ]
        }
      ],
      "source": [
        "print(buscador_posicion(\"binario\"))\n"
      ]
    },
    {
      "cell_type": "markdown",
      "metadata": {
        "id": "xZ-sWJxPRWxJ"
      },
      "source": [
        "## Ejercicio 11\n",
        "Convierte el programa del ejercicio 9 en una función al que se le pasen como argumentos la librería, posicional, y el título, argumento keyword con valor \"ninguno\", por defecto."
      ]
    },
    {
      "cell_type": "code",
      "execution_count": 21,
      "metadata": {
        "id": "4-JrsMdNRWxK"
      },
      "outputs": [],
      "source": [
        "def busca_libro(libreria,titulo=\"ninguno\"):\n",
        "    if titulo in libreria:\n",
        "        print(\"Ese título ya lo tengo\")\n",
        "    else:\n",
        "        print(\"Ese no lo tengo, ¿mola?\")\n",
        "    "
      ]
    },
    {
      "cell_type": "code",
      "execution_count": 24,
      "metadata": {},
      "outputs": [
        {
          "name": "stdout",
          "output_type": "stream",
          "text": [
            "Ese título ya lo tengo\n"
          ]
        }
      ],
      "source": [
        "busca_libro(libreria,\"Fundamentos\")"
      ]
    },
    {
      "cell_type": "markdown",
      "metadata": {
        "id": "FtJir95QRWxK"
      },
      "source": [
        "## Ejercicio 12\n",
        "Solicitar al usuario que ingrese su dirección email. Imprimir un mensaje indicando si la dirección es válida o no, valiéndose de una función para decidirlo. Una dirección se considerará válida si contiene el símbolo \"@\"."
      ]
    },
    {
      "cell_type": "code",
      "execution_count": 30,
      "metadata": {
        "id": "sk852IZ8RWxK"
      },
      "outputs": [
        {
          "name": "stdout",
          "output_type": "stream",
          "text": [
            "Correo válido !\n"
          ]
        }
      ],
      "source": [
        "\n",
        "\n",
        "def comprobar_correo (correo):\n",
        "    if \"@\" in correo:\n",
        "        print(\"Correo válido !\")\n",
        "    else:\n",
        "        print(\"No válido, puede que se te haya olvidado el @\")\n",
        "\n",
        "comprobar_correo(\"angel@gerte.com\")\n",
        "\n"
      ]
    },
    {
      "cell_type": "markdown",
      "metadata": {
        "id": "Kw1MWBwBRWxK"
      },
      "source": [
        "## Ejercicio 13\n",
        "Escribe una función que compruebe si un DNI es válido, devolviendo `True` en caso afirmativo.  \n",
        "En primer lugar, el DNI debe tener entre 7 y 8 dígitos numéricos.  \n",
        "Para saber si la letra del DNI es correcta puedes utilizar el siguiente fragmento de código:\n",
        ">```Python\n",
        ">DNI= 55555555\n",
        ">palabra='TRWAGMYFPDXBNJZSQVHLCKE'\n",
        ">print('La letra del DNI es: ', palabra[DNI%23])\n",
        ">````\n"
      ]
    },
    {
      "cell_type": "code",
      "execution_count": 37,
      "metadata": {
        "id": "F5Z9rSHqRWxK"
      },
      "outputs": [
        {
          "name": "stdout",
          "output_type": "stream",
          "text": [
            "Longitd inadecuada, falta al menos 1 dígito\n"
          ]
        }
      ],
      "source": [
        "def dni_check(dni):\n",
        "    dni = str(dni)\n",
        "    if len(dni) != 9:\n",
        "         print(\"Longitd inadecuada, falta al menos 1 dígito\")\n",
        "         return\n",
        "\n",
        "    if not dni[:-1].isdigit():\n",
        "       print(\"Número de dígitos inválido\")\n",
        "       return\n",
        "\n",
        "    if not dni[-1].isalpha():\n",
        "        print(\"Lo último no es una letra\")\n",
        "        return\n",
        "    print(\"DNI correct !\")\n",
        "\n",
        "dni_check(\"5435433L\")"
      ]
    }
  ],
  "metadata": {
    "colab": {
      "provenance": []
    },
    "kernelspec": {
      "display_name": "Python 3",
      "name": "python3"
    },
    "language_info": {
      "codemirror_mode": {
        "name": "ipython",
        "version": 3
      },
      "file_extension": ".py",
      "mimetype": "text/x-python",
      "name": "python",
      "nbconvert_exporter": "python",
      "pygments_lexer": "ipython3",
      "version": "3.12.6"
    },
    "orig_nbformat": 4
  },
  "nbformat": 4,
  "nbformat_minor": 0
}
